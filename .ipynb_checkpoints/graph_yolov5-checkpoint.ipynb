{
 "cells": [
  {
   "cell_type": "code",
   "execution_count": 3,
   "id": "bc0be981",
   "metadata": {},
   "outputs": [],
   "source": [
    "import pandas as pd\n",
    "import matplotlib.pyplot as plt\n",
    "import numpy as np\n",
    "import matplotlib.ticker as mtick\n",
    "import matplotlib\n",
    "from matplotlib.pyplot import figure\n",
    "from matplotlib.colors import ListedColormap"
   ]
  },
  {
   "cell_type": "markdown",
   "id": "8fc5f634",
   "metadata": {},
   "source": [
    "## Training Hours & Number of Parameters"
   ]
  },
  {
   "cell_type": "code",
   "execution_count": 21,
   "id": "d508a8b3",
   "metadata": {},
   "outputs": [],
   "source": [
    "\n",
    "data_path = './data/results.csv'\n"
   ]
  },
  {
   "cell_type": "code",
   "execution_count": null,
   "id": "24768ac8",
   "metadata": {},
   "outputs": [],
   "source": []
  },
  {
   "cell_type": "code",
   "execution_count": null,
   "id": "3db674df",
   "metadata": {},
   "outputs": [],
   "source": []
  },
  {
   "cell_type": "code",
   "execution_count": 48,
   "id": "5e57bbfd",
   "metadata": {},
   "outputs": [
    {
     "name": "stdout",
     "output_type": "stream",
     "text": [
      " Loading yolo metrics in csv\n",
      " dic   {'        val/box_loss': ['            0.021244', '             0.02398', '            0.022042', '            0.020041', '            0.020251', '            0.019776', '            0.019538', '            0.019183', '            0.019057', '            0.019165', '            0.018499', '            0.019119', '            0.018939', '            0.018726', '            0.018581', '            0.018747', '            0.018656', '            0.018792', '            0.018587', '            0.018592', '            0.018321', '             0.01841', '            0.018549', '            0.018651', '            0.018556', '            0.018492', '            0.018366', '             0.01834', '            0.018332', '            0.018349', '            0.018347', '            0.018334', '            0.018331', '              0.0183', '            0.018263', '            0.018259', '            0.018249', '            0.018247', '            0.018241', '            0.018236', '            0.018243', '            0.018265', '            0.018284', '            0.018298', '            0.018313', '             0.01833', '            0.018351']}\n",
      " dic key boxx          val/box_loss\n",
      " dic val boxx  ['            0.021244', '             0.02398', '            0.022042', '            0.020041', '            0.020251', '            0.019776', '            0.019538', '            0.019183', '            0.019057', '            0.019165', '            0.018499', '            0.019119', '            0.018939', '            0.018726', '            0.018581', '            0.018747', '            0.018656', '            0.018792', '            0.018587', '            0.018592', '            0.018321', '             0.01841', '            0.018549', '            0.018651', '            0.018556', '            0.018492', '            0.018366', '             0.01834', '            0.018332', '            0.018349', '            0.018347', '            0.018334', '            0.018331', '              0.0183', '            0.018263', '            0.018259', '            0.018249', '            0.018247', '            0.018241', '            0.018236', '            0.018243', '            0.018265', '            0.018284', '            0.018298', '            0.018313', '             0.01833', '            0.018351']\n",
      "[]\n",
      "[]\n",
      "DONE\n"
     ]
    }
   ],
   "source": [
    "import os \n",
    "import csv\n",
    "\n",
    "data_path = './data'\n",
    "jsonn_file = 'metrics.json'\n",
    "\n",
    "num_found_files = 0\n",
    "\n",
    "for file in os.listdir(data_path):\n",
    "    if 'csv' in file:\n",
    "        print(' Loading yolo metrics in csv')\n",
    "        num_found_files = num_found_files + 1\n",
    "        csv_path = os.path.join(data_path, file)\n",
    "        \n",
    "        dics = {}\n",
    "        val_box_loss = []\n",
    "        val_obj_loss = []\n",
    "        val_cls_loss = []\n",
    "        with open(csv_path, newline='') as file:\n",
    "            reader = csv.reader(file)\n",
    "            for row in reader:\n",
    "                val_box_loss.append(row[8])\n",
    "                val_obj_loss.append(row[9])\n",
    "                val_cls_loss.append(row[10])\n",
    "        dics_key1 = val_box_loss[0]\n",
    "        dics_key2 = val_obj_loss[0]\n",
    "        dics_key3 = val_cls_loss[0]\n",
    "        val_box_loss.pop(0)\n",
    "        val_obj_loss.pop(0)\n",
    "        val_cls_loss.pop(0)\n",
    "        dics[dics_key1] = val_box_loss\n",
    "        dics[dics_key2] val_box_loss\n",
    "        dics[dics_key3]  val_box_loss\n",
    "\n",
    "\n",
    "\n",
    "        print(f' dic   {dics}')\n",
    "\n",
    "        print(f' dic key boxx  {dics_key}')\n",
    "        print(f' dic val boxx  {dic_value}')    \n",
    "\n",
    "            \n",
    "        print('DONE')\n"
   ]
  },
  {
   "cell_type": "code",
   "execution_count": 112,
   "id": "9213450d",
   "metadata": {},
   "outputs": [
    {
     "name": "stdout",
     "output_type": "stream",
     "text": [
      "done\n",
      "0.9421885072468202\n",
      "0.6499321634413882\n",
      "0.9329402070180829\n",
      "4500\n",
      "4500\n"
     ]
    }
   ],
   "source": [
    "mask_rcnn_accuracy = []\n",
    "mm = 0\n",
    "nn_all = []\n",
    "for dics in epochs:\n",
    "    mask_rcnn_accuracy.append(dics[\"mask_rcnn/accuracy\"])\n",
    "    mm = mm + 1\n",
    "    nn_all.append(mm)\n",
    "#     print(dics[\"mask_rcnn/accuracy\"])\n",
    "print('done')\n",
    "\n",
    "print(max(mask_rcnn_accuracy))\n",
    "print(mask_rcnn_accuracy[0])\n",
    "print(mask_rcnn_accuracy[-1])\n",
    "print(len(mask_rcnn_accuracy))\n",
    "print(len(nn_all))"
   ]
  },
  {
   "cell_type": "code",
   "execution_count": null,
   "id": "865975e2",
   "metadata": {},
   "outputs": [],
   "source": []
  },
  {
   "cell_type": "code",
   "execution_count": 116,
   "id": "372567b2",
   "metadata": {},
   "outputs": [
    {
     "name": "stdout",
     "output_type": "stream",
     "text": [
      "best accurecy 0.9421885072468202 at epoch 3686\n"
     ]
    }
   ],
   "source": [
    "for nn, ac in zip(nn_all, mask_rcnn_accuracy):\n",
    "    if ac == max(mask_rcnn_accuracy):\n",
    "        print(f'best accurecy { ac } at epoch {nn}')"
   ]
  },
  {
   "cell_type": "code",
   "execution_count": null,
   "id": "262cb562",
   "metadata": {},
   "outputs": [],
   "source": []
  },
  {
   "cell_type": "code",
   "execution_count": 120,
   "id": "93980e87",
   "metadata": {},
   "outputs": [
    {
     "name": "stdout",
     "output_type": "stream",
     "text": [
      "4501\n",
      "4500\n"
     ]
    }
   ],
   "source": [
    "len_acc = 1\n",
    "mask_rcnn_accuracy_max = []\n",
    "for i in mask_rcnn_accuracy:\n",
    "    if i <= max(mask_rcnn_accuracy):\n",
    "        mask_rcnn_accuracy_max.append(i)\n",
    "        len_acc = len_acc + 1\n",
    "print(len_acc)\n",
    "print(len(mask_rcnn_accuracy_max))\n"
   ]
  },
  {
   "cell_type": "code",
   "execution_count": null,
   "id": "510ca17a",
   "metadata": {},
   "outputs": [],
   "source": []
  },
  {
   "cell_type": "code",
   "execution_count": 103,
   "id": "46f60edd",
   "metadata": {},
   "outputs": [
    {
     "name": "stdout",
     "output_type": "stream",
     "text": [
      "[64.99321634413882, 90.94867318847447, 92.16536046513428, 91.93991678952862, 92.280110401622, 92.59850811781098, 92.4346859158103, 92.64961293333731, 92.49021833856813, 93.07765754260816, 92.91405325745636, 92.77194965580009, 92.94208277971383, 92.63402108342493, 92.96198436136956, 92.93680005849639, 92.83378499420962, 92.63975849565902, 92.9672309474937, 92.78355149915289, 92.84889372895303, 92.98148790852832, 93.25120792135588, 93.25630787945379, 93.00067043440488, 92.79144541248148, 92.93517199021596, 93.18220302279475, 93.39575830698737, 93.28048499553677, 93.15806406563564, 93.35450899098144, 92.9966724898831, 92.95484162863924, 92.86493407524928, 92.82733697483549, 93.44087465477455, 93.23771676244179, 93.1177364781529, 93.35335490568278, 93.64152286561138, 93.33607365064745, 93.26703731503815, 93.51063813091562, 93.54470001595804, 93.46945573686466, 93.58487301588487, 93.01234707592714, 93.43467995749334, 93.41847623441056, 93.56695695799006, 93.41351827271069, 93.35244268338829, 93.39151360072458, 93.29723451438865, 93.28946236016735, 93.18927282212599, 93.33223694032132, 93.14909676176634, 93.3373810433028, 93.43723049230191, 93.43905933391612, 93.37488051626498, 93.30842443838617, 93.30880168213305, 93.38411019184278, 93.4783728943443, 93.44148544604975, 93.34317044835771, 93.1435290809997, 93.63530711787175, 93.37613391018562, 93.34137229080196, 93.31109781433366, 93.50703083539108, 93.18627255489751, 93.17199643972967, 93.38492493847406, 93.0180636274816, 93.43752619685044, 93.34549483435678, 93.40416028994247, 93.29487688315669, 93.36246637516874, 93.37916218196958, 93.69019196453208, 93.57101252939277, 93.74414864377205, 93.13355979394164, 93.53279580993745, 93.55622685108804, 93.40801658090187, 93.38911020654206, 93.83612290626878, 93.72063634636592, 93.61267556444656, 93.44915302779542, 93.51006343275243, 93.13315784420237, 93.64490953270685]\n"
     ]
    }
   ],
   "source": [
    "hun = []\n",
    "for ii in range(0, len(mask_rcnn_accuracy_max), 45):\n",
    "    hun.append(mask_rcnn_accuracy_max[ii]*100)\n",
    "print(hun)"
   ]
  },
  {
   "cell_type": "code",
   "execution_count": null,
   "id": "dad62715",
   "metadata": {},
   "outputs": [],
   "source": []
  },
  {
   "cell_type": "code",
   "execution_count": 104,
   "id": "dc9a2ca2",
   "metadata": {},
   "outputs": [
    {
     "name": "stdout",
     "output_type": "stream",
     "text": [
      "(64.99321634413882, 90.94867318847447, 92.16536046513428, 91.93991678952862, 92.280110401622, 92.59850811781098, 92.4346859158103, 92.64961293333731, 92.49021833856813, 93.07765754260816, 92.91405325745636, 92.77194965580009, 92.94208277971383, 92.63402108342493, 92.96198436136956, 92.93680005849639, 92.83378499420962, 92.63975849565902, 92.9672309474937, 92.78355149915289, 92.84889372895303, 92.98148790852832, 93.25120792135588, 93.25630787945379, 93.00067043440488, 92.79144541248148, 92.93517199021596, 93.18220302279475, 93.39575830698737, 93.28048499553677, 93.15806406563564, 93.35450899098144, 92.9966724898831, 92.95484162863924, 92.86493407524928, 92.82733697483549, 93.44087465477455, 93.23771676244179, 93.1177364781529, 93.35335490568278, 93.64152286561138, 93.33607365064745, 93.26703731503815, 93.51063813091562, 93.54470001595804, 93.46945573686466, 93.58487301588487, 93.01234707592714, 93.43467995749334, 93.41847623441056, 93.56695695799006, 93.41351827271069, 93.35244268338829, 93.39151360072458, 93.29723451438865, 93.28946236016735, 93.18927282212599, 93.33223694032132, 93.14909676176634, 93.3373810433028, 93.43723049230191, 93.43905933391612, 93.37488051626498, 93.30842443838617, 93.30880168213305, 93.38411019184278, 93.4783728943443, 93.44148544604975, 93.34317044835771, 93.1435290809997, 93.63530711787175, 93.37613391018562, 93.34137229080196, 93.31109781433366, 93.50703083539108, 93.18627255489751, 93.17199643972967, 93.38492493847406, 93.0180636274816, 93.43752619685044, 93.34549483435678, 93.40416028994247, 93.29487688315669, 93.36246637516874, 93.37916218196958, 93.69019196453208, 93.57101252939277, 93.74414864377205, 93.13355979394164, 93.53279580993745, 93.55622685108804, 93.40801658090187, 93.38911020654206, 93.83612290626878, 93.72063634636592, 93.61267556444656, 93.44915302779542, 93.51006343275243, 93.13315784420237, 93.64490953270685)\n"
     ]
    }
   ],
   "source": [
    "tu = tuple(hun)\n",
    "\n",
    "print(tu)"
   ]
  },
  {
   "cell_type": "code",
   "execution_count": null,
   "id": "5720a04b",
   "metadata": {},
   "outputs": [],
   "source": []
  },
  {
   "cell_type": "code",
   "execution_count": 107,
   "id": "0ca8f374",
   "metadata": {},
   "outputs": [],
   "source": [
    "df2=pd.DataFrame({'x_values': np.linspace(0,4501,len(np.random.randn(100))),\n",
    "                 \n",
    "                 'y1_values': tu\n",
    "                                         \n",
    "})"
   ]
  },
  {
   "cell_type": "code",
   "execution_count": null,
   "id": "4f51cd9b",
   "metadata": {},
   "outputs": [],
   "source": []
  },
  {
   "cell_type": "code",
   "execution_count": 119,
   "id": "1d3854ec",
   "metadata": {},
   "outputs": [
    {
     "data": {
      "image/png": "[encoded data removed]",
      "text/plain": [
       "<Figure size 360x288 with 1 Axes>"
      ]
     },
     "metadata": {
      "needs_background": "light"
     },
     "output_type": "display_data"
    }
   ],
   "source": [
    "import matplotlib.pyplot as plt\n",
    "import numpy as np\n",
    "import matplotlib.ticker as mtick\n",
    "\n",
    "fig = plt.figure(1, (5, 4))\n",
    "ax = fig.add_subplot(1,1,1)\n",
    "\n",
    "ax.plot( 'x_values', 'y1_values',   data=df2, marker='', markevery=10, markersize=15, color='red', linewidth=2, label=\" Mask RCNN \")\n",
    "# ax.plot( 'x_values', 'y9_values',  data=df2, marker='', markevery=1, markersize=5, color='white', linewidth=2, label=\"\")\n",
    "\n",
    "fmt = '%.0f%%' # Format you want the ticks, e.g. '40%'\n",
    "xticks = mtick.FormatStrFormatter(fmt)\n",
    "ax.yaxis.set_major_formatter(xticks)\n",
    "\n",
    "plt.title('detectron2', size = 20)\n",
    "plt.xlabel('Epochs')\n",
    "plt.ylabel('Accurecy')\n",
    "\n",
    "# show legend\n",
    "plt.legend(loc='lower right')\n",
    "\n",
    "plt.show()"
   ]
  },
  {
   "cell_type": "code",
   "execution_count": null,
   "id": "08878ea5",
   "metadata": {},
   "outputs": [],
   "source": []
  },
  {
   "cell_type": "code",
   "execution_count": null,
   "id": "056e01bc",
   "metadata": {},
   "outputs": [],
   "source": [
    "hun = []\n",
    "for ii in range(0, len(mask_rcnn_accuracy), 45):\n",
    "    hun.append(mask_rcnn_accuracy[ii]*100)\n",
    "print(hun)"
   ]
  }
 ],
 "metadata": {
  "kernelspec": {
   "display_name": "Python 3 (ipykernel)",
   "language": "python",
   "name": "python3"
  },
  "language_info": {
   "codemirror_mode": {
    "name": "ipython",
    "version": 3
   },
   "file_extension": ".py",
   "mimetype": "text/x-python",
   "name": "python",
   "nbconvert_exporter": "python",
   "pygments_lexer": "ipython3",
   "version": "3.10.4"
  }
 },
 "nbformat": 4,
 "nbformat_minor": 5
}
