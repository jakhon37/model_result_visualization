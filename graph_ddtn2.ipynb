{
 "cells": [
  {
   "cell_type": "code",
   "execution_count": 14,
   "id": "bc0be981",
   "metadata": {},
   "outputs": [],
   "source": [
    "import pandas as pd\n",
    "import matplotlib.pyplot as plt\n",
    "import numpy as np\n",
    "import matplotlib.ticker as mtick\n",
    "import matplotlib\n",
    "from matplotlib.pyplot import figure\n",
    "from matplotlib.colors import ListedColormap"
   ]
  },
  {
   "cell_type": "markdown",
   "id": "8fc5f634",
   "metadata": {},
   "source": [
    "## Training Metrics"
   ]
  },
  {
   "cell_type": "code",
   "execution_count": null,
   "id": "a3caab9f",
   "metadata": {},
   "outputs": [],
   "source": []
  },
  {
   "cell_type": "code",
   "execution_count": null,
   "id": "ed513c31",
   "metadata": {},
   "outputs": [],
   "source": [
    "\"mask_rcnn/accuracy\""
   ]
  },
  {
   "cell_type": "code",
   "execution_count": 2,
   "id": "d508a8b3",
   "metadata": {},
   "outputs": [],
   "source": [
    "\n",
    "data_path = './data/metrics.json'\n"
   ]
  },
  {
   "cell_type": "code",
   "execution_count": null,
   "id": "24768ac8",
   "metadata": {},
   "outputs": [],
   "source": []
  },
  {
   "cell_type": "code",
   "execution_count": null,
   "id": "3db674df",
   "metadata": {},
   "outputs": [],
   "source": []
  },
  {
   "cell_type": "code",
   "execution_count": 4,
   "id": "5e57bbfd",
   "metadata": {},
   "outputs": [
    {
     "name": "stdout",
     "output_type": "stream",
     "text": [
      " Loading Coco json\n",
      "DONE\n"
     ]
    }
   ],
   "source": [
    "import os \n",
    "import json\n",
    "\n",
    "data_path = './data'\n",
    "jsonn_file = 'metrics.json'\n",
    "\n",
    "num_found_files = 0\n",
    "\n",
    "for file in os.listdir(data_path):\n",
    "    if 'json' in file:\n",
    "        print(' Loading Coco json')\n",
    "        num_found_files = num_found_files + 1\n",
    "        json_path = os.path.join(data_path, file)\n",
    "        epochs = []\n",
    "        for line in open(json_path, 'r'):\n",
    "            epochs.append(json.loads(line))\n",
    "\n",
    "            \n",
    "            \n",
    "        print('DONE')\n",
    "#         print(tweets[0])\n",
    "\n",
    "        \n",
    "#             loaded_json = json.load(f)\n",
    "#             print(f'loaded json11 {loaded_json}')\n",
    "            \n",
    "            \n",
    "            "
   ]
  },
  {
   "cell_type": "code",
   "execution_count": 5,
   "id": "9213450d",
   "metadata": {},
   "outputs": [
    {
     "name": "stdout",
     "output_type": "stream",
     "text": [
      "done\n",
      "0.9421885072468202\n",
      "0.6499321634413882\n",
      "0.9329402070180829\n",
      "4500\n",
      "4500\n"
     ]
    }
   ],
   "source": [
    "# fast_rcnn/cls_accuracy\n",
    "# fast_rcnn/fg_cls_accuracy\n",
    "mask_rcnn_accuracy = []\n",
    "fast_rcnn_cls_accuracy = []\n",
    "fast_rcnn_fg_cls_accuracy = []\n",
    "\n",
    "mm = 0\n",
    "nn_all = []\n",
    "for dics in epochs:\n",
    "    mask_rcnn_accuracy.append(dics[\"mask_rcnn/accuracy\"])\n",
    "    fast_rcnn_cls_accuracy.append(dics[\"fast_rcnn/cls_accuracy\"])\n",
    "    fast_rcnn_fg_cls_accuracy.append(dics[\"fast_rcnn/fg_cls_accuracy\"])\n",
    "    mm = mm + 1\n",
    "    nn_all.append(mm)\n",
    "#     print(dics[\"mask_rcnn/accuracy\"])\n",
    "print('done')\n",
    "\n",
    "print(max(mask_rcnn_accuracy))\n",
    "print(mask_rcnn_accuracy[0])\n",
    "print(mask_rcnn_accuracy[-1])\n",
    "print(len(mask_rcnn_accuracy))\n",
    "print(len(nn_all))"
   ]
  },
  {
   "cell_type": "code",
   "execution_count": null,
   "id": "865975e2",
   "metadata": {},
   "outputs": [],
   "source": []
  },
  {
   "cell_type": "code",
   "execution_count": 7,
   "id": "372567b2",
   "metadata": {},
   "outputs": [
    {
     "name": "stdout",
     "output_type": "stream",
     "text": [
      "best accurecy 0.9421885072468202 at epoch 3686\n"
     ]
    }
   ],
   "source": [
    "for nn, ac in zip(nn_all, mask_rcnn_accuracy):\n",
    "    if ac == max(mask_rcnn_accuracy):\n",
    "        print(f'best accurecy { ac } at epoch {nn}')"
   ]
  },
  {
   "cell_type": "code",
   "execution_count": null,
   "id": "262cb562",
   "metadata": {},
   "outputs": [],
   "source": []
  },
  {
   "cell_type": "code",
   "execution_count": 8,
   "id": "93980e87",
   "metadata": {},
   "outputs": [
    {
     "name": "stdout",
     "output_type": "stream",
     "text": [
      "4501\n",
      "4500\n"
     ]
    }
   ],
   "source": [
    "len_acc = 1\n",
    "mask_rcnn_accuracy_max = []\n",
    "for i in mask_rcnn_accuracy:\n",
    "    if i <= max(mask_rcnn_accuracy):\n",
    "        mask_rcnn_accuracy_max.append(i)\n",
    "        len_acc = len_acc + 1\n",
    "print(len_acc)\n",
    "print(len(mask_rcnn_accuracy_max))\n"
   ]
  },
  {
   "cell_type": "code",
   "execution_count": null,
   "id": "510ca17a",
   "metadata": {},
   "outputs": [],
   "source": []
  },
  {
   "cell_type": "code",
   "execution_count": 19,
   "id": "46f60edd",
   "metadata": {},
   "outputs": [],
   "source": [
    "hun = []\n",
    "for ii in range(0, len(mask_rcnn_accuracy_max), 45):\n",
    "    hun.append(mask_rcnn_accuracy_max[ii]*100)\n",
    "# print(hun)"
   ]
  },
  {
   "cell_type": "code",
   "execution_count": null,
   "id": "dad62715",
   "metadata": {},
   "outputs": [],
   "source": []
  },
  {
   "cell_type": "code",
   "execution_count": 18,
   "id": "dc9a2ca2",
   "metadata": {},
   "outputs": [],
   "source": [
    "tu = tuple(hun)\n",
    "\n",
    "# print(tu)"
   ]
  },
  {
   "cell_type": "code",
   "execution_count": null,
   "id": "5720a04b",
   "metadata": {},
   "outputs": [],
   "source": []
  },
  {
   "cell_type": "code",
   "execution_count": 15,
   "id": "0ca8f374",
   "metadata": {},
   "outputs": [],
   "source": [
    "df2=pd.DataFrame({'x_values': np.linspace(0,4501,len(np.random.randn(100))),\n",
    "                 \n",
    "                 'y1_values': tu\n",
    "                                         \n",
    "})"
   ]
  },
  {
   "cell_type": "code",
   "execution_count": null,
   "id": "4f51cd9b",
   "metadata": {},
   "outputs": [],
   "source": []
  },
  {
   "cell_type": "code",
   "execution_count": 17,
   "id": "1d3854ec",
   "metadata": {},
   "outputs": [
    {
     "data": {
      "image/png": "[encoded data removed]",
      "text/plain": [
       "<Figure size 1080x720 with 1 Axes>"
      ]
     },
     "metadata": {
      "needs_background": "light"
     },
     "output_type": "display_data"
    }
   ],
   "source": [
    "import matplotlib.pyplot as plt\n",
    "import numpy as np\n",
    "import matplotlib.ticker as mtick\n",
    "\n",
    "fig = plt.figure(1, (15, 10))\n",
    "ax = fig.add_subplot(1,1,1)\n",
    "\n",
    "ax.plot( 'x_values', 'y1_values',   data=df2, marker='', markevery=10, markersize=15, color='red', linewidth=2, label=\" Mask RCNN \")\n",
    "# ax.plot( 'x_values', 'y9_values',  data=df2, marker='', markevery=1, markersize=5, color='white', linewidth=2, label=\"\")\n",
    "\n",
    "fmt = '%.0f%%' # Format you want the ticks, e.g. '40%'\n",
    "xticks = mtick.FormatStrFormatter(fmt)\n",
    "ax.yaxis.set_major_formatter(xticks)\n",
    "\n",
    "plt.title('mask_rcnn/accuracy', size = 20)\n",
    "plt.xlabel('Epochs')\n",
    "plt.ylabel('Accurecy')\n",
    "\n",
    "# show legend\n",
    "plt.legend(loc='lower right')\n",
    "\n",
    "plt.show()"
   ]
  },
  {
   "cell_type": "code",
   "execution_count": null,
   "id": "08878ea5",
   "metadata": {},
   "outputs": [],
   "source": []
  },
  {
   "cell_type": "code",
   "execution_count": null,
   "id": "056e01bc",
   "metadata": {},
   "outputs": [],
   "source": [
    "hun = []\n",
    "for ii in range(0, len(mask_rcnn_accuracy), 45):\n",
    "    hun.append(mask_rcnn_accuracy[ii]*100)\n",
    "print(hun)"
   ]
  }
 ],
 "metadata": {
  "kernelspec": {
   "display_name": "Python 3 (ipykernel)",
   "language": "python",
   "name": "python3"
  },
  "language_info": {
   "codemirror_mode": {
    "name": "ipython",
    "version": 3
   },
   "file_extension": ".py",
   "mimetype": "text/x-python",
   "name": "python",
   "nbconvert_exporter": "python",
   "pygments_lexer": "ipython3",
   "version": "3.10.4"
  }
 },
 "nbformat": 4,
 "nbformat_minor": 5
}
