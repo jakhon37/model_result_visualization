{
 "cells": [
  {
   "cell_type": "code",
   "execution_count": null,
   "outputs": [],
   "source": [
    "import pandas as pd\n",
    "import matplotlib.pyplot as plt\n",
    "import numpy as np\n",
    "import matplotlib.ticker as mtick\n",
    "import matplotlib\n",
    "from matplotlib.pyplot import figure\n",
    "from matplotlib.colors import ListedColormap\n",
    "\n"
   ],
   "metadata": {
    "collapsed": false,
    "pycharm": {
     "name": "#%%\n"
    }
   }
  },
  {
   "cell_type": "markdown",
   "source": [
    "## Training Metrics"
   ],
   "metadata": {
    "collapsed": false,
    "pycharm": {
     "name": "#%% md\n"
    }
   }
  },
  {
   "cell_type": "code",
   "execution_count": null,
   "outputs": [],
   "source": [],
   "metadata": {
    "collapsed": false,
    "pycharm": {
     "name": "#%%\n"
    }
   }
  },
  {
   "cell_type": "code",
   "execution_count": null,
   "outputs": [],
   "source": [
    "\n",
    "data_path = './data/metrics.json'\n",
    "\n",
    "import os \n",
    "import json\n",
    "\n",
    "data_path = './data'\n",
    "jsonn_file = 'metrics.json'\n",
    "\n",
    "num_found_files = 0\n",
    "\n",
    "for file in os.listdir(data_path):\n",
    "    if 'json' in file:\n",
    "        print(' Loading Coco json')\n",
    "        num_found_files = num_found_files + 1\n",
    "        json_path = os.path.join(data_path, file)\n",
    "        epochs = []\n",
    "        for line in open(json_path, 'r'):\n",
    "            epochs.append(json.loads(line))\n",
    "\n",
    "            \n",
    "            \n",
    "        print('DONE')\n",
    "#         print(tweets[0])\n",
    "\n",
    "        \n",
    "#             loaded_json = json.load(f)\n",
    "#             print(f'loaded json11 {loaded_json}')\n",
    "            \n",
    "            \n",
    "# fast_rcnn/cls_accuracy\n",
    "# fast_rcnn/fg_cls_accuracy\n",
    "mask_rcnn_accuracy = []\n",
    "fast_rcnn_cls_accuracy = []\n",
    "fast_rcnn_fg_cls_accuracy = []\n",
    "iteration = []\n",
    "\n",
    "total_loss = []\n",
    "loss_mask = []\n",
    "\n",
    "mm = 0\n",
    "nn_all = []\n",
    "for dics in epochs:\n",
    "    mask_rcnn_accuracy.append(dics[\"mask_rcnn/accuracy\"]*100)\n",
    "    fast_rcnn_cls_accuracy.append(dics[\"fast_rcnn/cls_accuracy\"]*100)\n",
    "    fast_rcnn_fg_cls_accuracy.append(dics[\"fast_rcnn/fg_cls_accuracy\"]*100)\n",
    "    iteration.append(dics[\"iteration\"])\n",
    "    total_loss.append(dics[\"total_loss\"]*100)\n",
    "    loss_mask.append(dics[\"loss_mask\"]*100)\n",
    "\n",
    "    mm = mm + 1\n",
    "    nn_all.append(mm)\n",
    "#     print(dics[\"mask_rcnn/accuracy\"])\n",
    "# print(dics)\n",
    "\n",
    "print('done')\n",
    "\n",
    "\n",
    "print(f'length of values: {len(nn_all)}')\n",
    "\n",
    "\n",
    "for val, nn, ac, fc, ff, ls, ml in zip(nn_all, iteration, mask_rcnn_accuracy, fast_rcnn_cls_accuracy, fast_rcnn_fg_cls_accuracy, total_loss, loss_mask):\n",
    "    if ac == max(mask_rcnn_accuracy):\n",
    "        print(f'best mask_rcnn_accuracy: { ac } at epoch {nn} ({val})')\n",
    "        \n",
    "    if  fc == max(fast_rcnn_cls_accuracy):\n",
    "        print(f'best fast_rcnn_cls_accuracy: { fc }  at epoch {nn} ({val})')\n",
    "        \n",
    "    if ff == max(fast_rcnn_fg_cls_accuracy):\n",
    "        print(f'best  fast_rcnn_fg_cls_accuracy: { ff } at epoch {nn} ({val})')\n",
    "    \n",
    "    if ls == min(total_loss):\n",
    "        print(f' lowest  total_loss: { ls } at epoch {nn} ({val})') \n",
    "        \n",
    "        \n",
    "    if ml == min(loss_mask):\n",
    "        print(f' lowest  loss_mask: { ml } at epoch {nn} ({val})')\n",
    "        \n",
    "\n",
    "tu1 = tuple(mask_rcnn_accuracy)\n",
    "tu2 = tuple(fast_rcnn_cls_accuracy)\n",
    "tu3 = tuple(fast_rcnn_fg_cls_accuracy)\n",
    "tu4 = tuple(total_loss)\n",
    "tu5 = tuple(loss_mask)\n",
    "\n",
    "df2=pd.DataFrame({'x_values': np.linspace(0,4501,len(np.random.randn(4500))),\n",
    "                 \n",
    "                 'y1_values': tu1,\n",
    "                  'y2_values': tu2,\n",
    "                  'y3_values': tu3,\n",
    "#                   'y4_values': tu4,\n",
    "                  'y5_values': tu5\n",
    "                                         \n",
    "})\n",
    "\n",
    "\n",
    "\n",
    "fig = plt.figure(1, (15, 8))\n",
    "ax = fig.add_subplot(1,1,1)\n",
    "\n",
    "ax.plot( 'x_values', 'y1_values',   data=df2, marker='', markevery=10, markersize=15, color='brown', linewidth=2, label=\" mask_rcnn_accuracy \")\n",
    "ax.plot( 'x_values', 'y2_values',   data=df2, marker='', markevery=10, markersize=15, color='green', linewidth=2, label=\" fast_rcnn_cls_accuracy \")\n",
    "ax.plot( 'x_values', 'y3_values',   data=df2, marker='', markevery=10, markersize=15, color='blue', linewidth=2, label=\" fast_rcnn_fg_cls_accuracy\")\n",
    "# ax.plot( 'x_values', 'y4_values',   data=df2, marker='', markevery=10, markersize=15, color='red', linewidth=2, label=\" total_loss\")\n",
    "ax.plot( 'x_values', 'y5_values',   data=df2, marker='', markevery=10, markersize=15, color='red', linewidth=2, label=\" loss_mask\")\n",
    "\n",
    "# ax.plot( 'x_values', 'y9_values',  data=df2, marker='', markevery=1, markersize=5, color='white', linewidth=2, label=\"\")\n",
    "\n",
    "fmt = '%.0f%%' # Format you want the ticks, e.g. '40%'\n",
    "xticks = mtick.FormatStrFormatter(fmt)\n",
    "ax.yaxis.set_major_formatter(xticks)\n",
    "\n",
    "plt.title(' metrics', size = 20)\n",
    "plt.xlabel('Epochs')\n",
    "plt.ylabel('Accurecy & Loss')\n",
    "\n",
    "# show legend\n",
    "plt.legend(loc='center right')\n",
    "\n",
    "plt.show()"
   ],
   "metadata": {
    "collapsed": false,
    "pycharm": {
     "name": "#%%\n"
    }
   }
  },
  {
   "cell_type": "code",
   "execution_count": null,
   "outputs": [],
   "source": [],
   "metadata": {
    "collapsed": false,
    "pycharm": {
     "name": "#%%\n"
    }
   }
  },
  {
   "cell_type": "code",
   "execution_count": null,
   "outputs": [],
   "source": [],
   "metadata": {
    "collapsed": false,
    "pycharm": {
     "name": "#%%\n"
    }
   }
  },
  {
   "cell_type": "code",
   "execution_count": null,
   "outputs": [],
   "source": [],
   "metadata": {
    "collapsed": false,
    "pycharm": {
     "name": "#%%\n"
    }
   }
  },
  {
   "cell_type": "code",
   "execution_count": null,
   "outputs": [],
   "source": [],
   "metadata": {
    "collapsed": false,
    "pycharm": {
     "name": "#%%\n"
    }
   }
  },
  {
   "cell_type": "code",
   "execution_count": null,
   "outputs": [],
   "source": [
    "\n",
    "# print(tu)"
   ],
   "metadata": {
    "collapsed": false,
    "pycharm": {
     "name": "#%%\n"
    }
   }
  },
  {
   "cell_type": "code",
   "execution_count": null,
   "outputs": [],
   "source": [],
   "metadata": {
    "collapsed": false,
    "pycharm": {
     "name": "#%%\n"
    }
   }
  },
  {
   "cell_type": "code",
   "execution_count": null,
   "outputs": [],
   "source": [],
   "metadata": {
    "collapsed": false,
    "pycharm": {
     "name": "#%%\n"
    }
   }
  },
  {
   "cell_type": "code",
   "execution_count": null,
   "outputs": [],
   "source": [],
   "metadata": {
    "collapsed": false,
    "pycharm": {
     "name": "#%%\n"
    }
   }
  },
  {
   "cell_type": "code",
   "execution_count": null,
   "outputs": [],
   "source": [],
   "metadata": {
    "collapsed": false,
    "pycharm": {
     "name": "#%%\n"
    }
   }
  }
 ],
 "metadata": {
  "kernelspec": {
   "display_name": "Python 3 (ipykernel)",
   "language": "python",
   "name": "python3"
  },
  "language_info": {
   "codemirror_mode": {
    "name": "ipython",
    "version": 3
   },
   "file_extension": ".py",
   "mimetype": "text/x-python",
   "name": "python",
   "nbconvert_exporter": "python",
   "pygments_lexer": "ipython3",
   "version": "3.10.4"
  }
 },
 "nbformat": 4,
 "nbformat_minor": 5
}