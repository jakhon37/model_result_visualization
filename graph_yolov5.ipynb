{
 "cells": [
  {
   "cell_type": "code",
   "execution_count": 15,
   "id": "bc0be981",
   "metadata": {},
   "outputs": [],
   "source": [
    "import pandas as pd\n",
    "import matplotlib.pyplot as plt\n",
    "import numpy as np\n",
    "import matplotlib.ticker as mtick\n",
    "import matplotlib\n",
    "from matplotlib.pyplot import figure\n",
    "from matplotlib.colors import ListedColormap"
   ]
  },
  {
   "cell_type": "markdown",
   "id": "8fc5f634",
   "metadata": {},
   "source": [
    "## Training Hours & Number of Parameters"
   ]
  },
  {
   "cell_type": "code",
   "execution_count": 21,
   "id": "d508a8b3",
   "metadata": {},
   "outputs": [],
   "source": [
    "\n",
    "data_path = './data/results.csv'\n"
   ]
  },
  {
   "cell_type": "code",
   "execution_count": null,
   "id": "24768ac8",
   "metadata": {},
   "outputs": [],
   "source": []
  },
  {
   "cell_type": "code",
   "execution_count": null,
   "id": "3db674df",
   "metadata": {},
   "outputs": [],
   "source": []
  },
  {
   "cell_type": "code",
   "execution_count": 2,
   "id": "5e57bbfd",
   "metadata": {},
   "outputs": [
    {
     "name": "stdout",
     "output_type": "stream",
     "text": [
      " Loading yolo metrics in csv\n",
      " dic   {'        val/box_loss': ['            0.021244', '             0.02398', '            0.022042', '            0.020041', '            0.020251', '            0.019776', '            0.019538', '            0.019183', '            0.019057', '            0.019165', '            0.018499', '            0.019119', '            0.018939', '            0.018726', '            0.018581', '            0.018747', '            0.018656', '            0.018792', '            0.018587', '            0.018592', '            0.018321', '             0.01841', '            0.018549', '            0.018651', '            0.018556', '            0.018492', '            0.018366', '             0.01834', '            0.018332', '            0.018349', '            0.018347', '            0.018334', '            0.018331', '              0.0183', '            0.018263', '            0.018259', '            0.018249', '            0.018247', '            0.018241', '            0.018236', '            0.018243', '            0.018265', '            0.018284', '            0.018298', '            0.018313', '             0.01833', '            0.018351'], '        val/obj_loss': ['           0.0038344', '            0.003468', '           0.0037597', '           0.0032367', '           0.0033053', '           0.0034095', '           0.0034117', '           0.0033245', '           0.0033391', '           0.0031659', '           0.0033168', '           0.0032984', '           0.0032414', '           0.0033115', '           0.0033018', '           0.0032027', '           0.0032261', '           0.0032684', '           0.0032439', '           0.0032284', '           0.0031984', '           0.0032363', '           0.0032556', '           0.0032614', '            0.003236', '           0.0032329', '           0.0032122', '           0.0032156', '           0.0032135', '           0.0032123', '           0.0032207', '           0.0032319', '           0.0032315', '           0.0032341', '           0.0032265', '           0.0032218', '           0.0032191', '           0.0032187', '           0.0032209', '           0.0032209', '           0.0032245', '           0.0032298', '           0.0032312', '           0.0032314', '           0.0032344', '           0.0032389', '            0.003246'], '        val/cls_loss': ['           0.0019712', '           0.0019904', '           0.0016424', '            0.001348', '           0.0015855', '           0.0014588', '            0.001302', '           0.0014717', '           0.0014186', '           0.0013819', '           0.0013064', '           0.0013912', '            0.001322', '           0.0014284', '           0.0014629', '           0.0013734', '           0.0013457', '           0.0013518', '           0.0013723', '           0.0013865', '           0.0013429', '           0.0013455', '           0.0013958', '           0.0013886', '            0.001412', '           0.0014137', '           0.0013956', '           0.0013725', '           0.0013691', '           0.0013756', '           0.0013807', '           0.0014122', '           0.0014118', '           0.0014092', '           0.0014028', '           0.0014007', '           0.0014051', '           0.0014049', '           0.0014066', '           0.0014104', '           0.0014162', '           0.0014219', '           0.0014261', '           0.0014298', '           0.0014349', '            0.001435', '           0.0014383']}\n",
      "DONE\n"
     ]
    }
   ],
   "source": [
    "import os \n",
    "import csv\n",
    "\n",
    "data_path = './data'\n",
    "jsonn_file = 'metrics.json'\n",
    "\n",
    "num_found_files = 0\n",
    "\n",
    "for file in os.listdir(data_path):\n",
    "    if 'csv' in file:\n",
    "        print(' Loading yolo metrics in csv')\n",
    "        num_found_files = num_found_files + 1\n",
    "        csv_path = os.path.join(data_path, file)\n",
    "        \n",
    "        dics = {}\n",
    "        val_box_loss = []\n",
    "        val_obj_loss = []\n",
    "        val_cls_loss = []\n",
    "        with open(csv_path, newline='') as file:\n",
    "            reader = csv.reader(file)\n",
    "            for row in reader:\n",
    "                val_box_loss.append(row[8])\n",
    "                val_obj_loss.append(row[9])\n",
    "                val_cls_loss.append(row[10])\n",
    "        dics_key1 = val_box_loss[0]\n",
    "        dics_key2 = val_obj_loss[0]\n",
    "        dics_key3 = val_cls_loss[0]\n",
    "        val_box_loss.pop(0)\n",
    "        val_obj_loss.pop(0)\n",
    "        val_cls_loss.pop(0)\n",
    "        dics[dics_key1] = val_box_loss\n",
    "        dics[dics_key2] = val_obj_loss\n",
    "        dics[dics_key3] = val_cls_loss\n",
    "\n",
    "\n",
    "\n",
    "        print(f' dic   {dics}')\n",
    "\n",
    "#         print(f' dic key boxx  {dics_key}')\n",
    "#         print(f' dic val boxx  {dic_value}')    \n",
    "\n",
    "            \n",
    "        print('DONE')\n"
   ]
  },
  {
   "cell_type": "code",
   "execution_count": null,
   "id": "31685db3",
   "metadata": {},
   "outputs": [],
   "source": []
  },
  {
   "cell_type": "code",
   "execution_count": 39,
   "id": "685ad415",
   "metadata": {},
   "outputs": [
    {
     "name": "stdout",
     "output_type": "stream",
     "text": [
      "avg_loss [90.98346666666667, 90.1872, 90.85196666666667, 91.79143333333333, 91.6194, 91.78523333333334, 91.9161, 92.00693333333334, 92.06176666666667, 92.09573333333333, 92.2926, 92.0638, 92.16586666666666, 92.17803333333333, 92.21809999999999, 92.22563333333333, 92.2574, 92.19593333333333, 92.2656, 92.26436666666666, 92.37923333333333, 92.33606666666667, 92.26653333333333, 92.233, 92.26533333333333, 92.28713333333333, 92.34206666666667, 92.3573, 92.3618, 92.35436666666666, 92.35053333333333, 92.34063333333333, 92.3419, 92.35223333333333, 92.36923333333333, 92.37283333333333, 92.3756, 92.37646666666666, 92.37716666666667, 92.37756666666667, 92.3721, 92.3611, 92.3529, 92.34693333333334, 92.33923333333334, 92.33203333333333, 92.32156666666667] \n",
      "done\n",
      "47\n"
     ]
    }
   ],
   "source": [
    "avg_loss = []\n",
    "nn_all = []\n",
    "mm = 0\n",
    "\n",
    "for a, b, c in zip(val_box_loss, val_obj_loss, val_cls_loss):\n",
    "    avg = (float(a) + float(b) + float(c))/3\n",
    "    avg_loss.append(100 - avg*1000)\n",
    "    mm = mm + 1\n",
    "    nn_all.append(mm)\n",
    "print(f'avg_loss {avg_loss} ')\n",
    "print('done')\n",
    "print(len(nn_all))"
   ]
  },
  {
   "cell_type": "code",
   "execution_count": null,
   "id": "1f361296",
   "metadata": {},
   "outputs": [],
   "source": []
  },
  {
   "cell_type": "code",
   "execution_count": null,
   "id": "865975e2",
   "metadata": {},
   "outputs": [],
   "source": []
  },
  {
   "cell_type": "code",
   "execution_count": 40,
   "id": "372567b2",
   "metadata": {},
   "outputs": [
    {
     "name": "stdout",
     "output_type": "stream",
     "text": [
      "lowest lost 90.1872 at epoch 2\n"
     ]
    }
   ],
   "source": [
    "for nn, ac in zip(nn_all, avg_loss):\n",
    "    if ac == min(avg_loss):\n",
    "        print(f'lowest lost { ac } at epoch {nn}')"
   ]
  },
  {
   "cell_type": "code",
   "execution_count": 44,
   "id": "dafef4bf",
   "metadata": {},
   "outputs": [
    {
     "name": "stdout",
     "output_type": "stream",
     "text": [
      " best accurecy 92.37923333333333 at epoch 21\n"
     ]
    }
   ],
   "source": [
    "for nn, ac in zip(nn_all, avg_loss):\n",
    "    if ac == max(avg_loss):\n",
    "        print(f' best accurecy { ac } at epoch {nn}')"
   ]
  },
  {
   "cell_type": "code",
   "execution_count": 41,
   "id": "262cb562",
   "metadata": {},
   "outputs": [],
   "source": [
    "tu = tuple(avg_loss)\n"
   ]
  },
  {
   "cell_type": "code",
   "execution_count": null,
   "id": "510ca17a",
   "metadata": {},
   "outputs": [],
   "source": []
  },
  {
   "cell_type": "code",
   "execution_count": null,
   "id": "dad62715",
   "metadata": {},
   "outputs": [],
   "source": []
  },
  {
   "cell_type": "code",
   "execution_count": null,
   "id": "5720a04b",
   "metadata": {},
   "outputs": [],
   "source": []
  },
  {
   "cell_type": "code",
   "execution_count": 42,
   "id": "0ca8f374",
   "metadata": {},
   "outputs": [],
   "source": [
    "df2=pd.DataFrame({'x_values': np.linspace(0,47,len(np.random.randn(47))),\n",
    "                 \n",
    "                 'y1_values': tu\n",
    "                                         \n",
    "})"
   ]
  },
  {
   "cell_type": "code",
   "execution_count": null,
   "id": "4f51cd9b",
   "metadata": {},
   "outputs": [],
   "source": []
  },
  {
   "cell_type": "code",
   "execution_count": 43,
   "id": "1d3854ec",
   "metadata": {},
   "outputs": [
    {
     "data": {
      "image/png": "[encoded data removed]",
      "text/plain": [
       "<Figure size 360x288 with 1 Axes>"
      ]
     },
     "metadata": {
      "needs_background": "light"
     },
     "output_type": "display_data"
    }
   ],
   "source": [
    "import matplotlib.pyplot as plt\n",
    "import numpy as np\n",
    "import matplotlib.ticker as mtick\n",
    "\n",
    "fig = plt.figure(1, (5, 4))\n",
    "ax = fig.add_subplot(1,1,1)\n",
    "\n",
    "ax.plot( 'x_values', 'y1_values',   data=df2, marker='', markevery=10, markersize=15, color='red', linewidth=2, label=\" yolov5s 1280 \")\n",
    "# ax.plot( 'x_values', 'y9_values',  data=df2, marker='', markevery=1, markersize=5, color='white', linewidth=2, label=\"\")\n",
    "\n",
    "fmt = '%.0f%%' # Format you want the ticks, e.g. '40%'\n",
    "xticks = mtick.FormatStrFormatter(fmt)\n",
    "ax.yaxis.set_major_formatter(xticks)\n",
    "\n",
    "plt.title('yolo5', size = 20)\n",
    "plt.xlabel('Epochs')\n",
    "plt.ylabel('loss')\n",
    "\n",
    "# show legend\n",
    "plt.legend(loc='upper right')\n",
    "\n",
    "plt.show()"
   ]
  },
  {
   "cell_type": "code",
   "execution_count": null,
   "id": "08878ea5",
   "metadata": {},
   "outputs": [],
   "source": []
  }
 ],
 "metadata": {
  "kernelspec": {
   "display_name": "Python 3 (ipykernel)",
   "language": "python",
   "name": "python3"
  },
  "language_info": {
   "codemirror_mode": {
    "name": "ipython",
    "version": 3
   },
   "file_extension": ".py",
   "mimetype": "text/x-python",
   "name": "python",
   "nbconvert_exporter": "python",
   "pygments_lexer": "ipython3",
   "version": "3.10.4"
  }
 },
 "nbformat": 4,
 "nbformat_minor": 5
}
